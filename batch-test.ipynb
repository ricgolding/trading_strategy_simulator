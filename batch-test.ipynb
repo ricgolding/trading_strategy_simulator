{
 "cells": [
  {
   "cell_type": "code",
   "execution_count": 22,
   "id": "e4fc0cb4-375c-46a6-b394-77912e922f46",
   "metadata": {},
   "outputs": [
    {
     "name": "stdout",
     "output_type": "stream",
     "text": [
      "Running: SPY\n"
     ]
    },
    {
     "name": "stderr",
     "output_type": "stream",
     "text": [
      "[*********************100%***********************]  1 of 1 completed\n",
      "[*********************100%***********************]  1 of 1 completed\n"
     ]
    },
    {
     "name": "stdout",
     "output_type": "stream",
     "text": [
      "Running: QQQ\n",
      "Running: AAPL\n"
     ]
    },
    {
     "name": "stderr",
     "output_type": "stream",
     "text": [
      "[*********************100%***********************]  1 of 1 completed\n"
     ]
    },
    {
     "name": "stdout",
     "output_type": "stream",
     "text": [
      "Running: MSFT\n"
     ]
    },
    {
     "name": "stderr",
     "output_type": "stream",
     "text": [
      "[*********************100%***********************]  1 of 1 completed"
     ]
    },
    {
     "name": "stdout",
     "output_type": "stream",
     "text": [
      "\n",
      "Multi-Ticker Strategy Results:\n",
      "\n"
     ]
    },
    {
     "name": "stderr",
     "output_type": "stream",
     "text": [
      "\n"
     ]
    },
    {
     "data": {
      "text/html": [
       "<div>\n",
       "<style scoped>\n",
       "    .dataframe tbody tr th:only-of-type {\n",
       "        vertical-align: middle;\n",
       "    }\n",
       "\n",
       "    .dataframe tbody tr th {\n",
       "        vertical-align: top;\n",
       "    }\n",
       "\n",
       "    .dataframe thead th {\n",
       "        text-align: right;\n",
       "    }\n",
       "</style>\n",
       "<table border=\"1\" class=\"dataframe\">\n",
       "  <thead>\n",
       "    <tr style=\"text-align: right;\">\n",
       "      <th></th>\n",
       "      <th>Ticker</th>\n",
       "      <th>Final Value</th>\n",
       "      <th>Return (%)</th>\n",
       "      <th>Buy &amp; Hold Return (%)</th>\n",
       "      <th>Outperformed/Underperfromed (%)</th>\n",
       "      <th>Buys</th>\n",
       "      <th>Sells</th>\n",
       "      <th>Trades</th>\n",
       "    </tr>\n",
       "  </thead>\n",
       "  <tbody>\n",
       "    <tr>\n",
       "      <th>0</th>\n",
       "      <td>SPY</td>\n",
       "      <td>19693.10</td>\n",
       "      <td>-1.53</td>\n",
       "      <td>-2.83</td>\n",
       "      <td>1.30</td>\n",
       "      <td>335</td>\n",
       "      <td>486</td>\n",
       "      <td>821</td>\n",
       "    </tr>\n",
       "    <tr>\n",
       "      <th>1</th>\n",
       "      <td>QQQ</td>\n",
       "      <td>19724.60</td>\n",
       "      <td>-1.38</td>\n",
       "      <td>-4.41</td>\n",
       "      <td>3.03</td>\n",
       "      <td>334</td>\n",
       "      <td>495</td>\n",
       "      <td>829</td>\n",
       "    </tr>\n",
       "    <tr>\n",
       "      <th>2</th>\n",
       "      <td>AAPL</td>\n",
       "      <td>20406.47</td>\n",
       "      <td>2.03</td>\n",
       "      <td>-1.23</td>\n",
       "      <td>3.26</td>\n",
       "      <td>276</td>\n",
       "      <td>488</td>\n",
       "      <td>764</td>\n",
       "    </tr>\n",
       "    <tr>\n",
       "      <th>3</th>\n",
       "      <td>MSFT</td>\n",
       "      <td>19663.81</td>\n",
       "      <td>-1.68</td>\n",
       "      <td>-3.38</td>\n",
       "      <td>1.70</td>\n",
       "      <td>334</td>\n",
       "      <td>480</td>\n",
       "      <td>814</td>\n",
       "    </tr>\n",
       "  </tbody>\n",
       "</table>\n",
       "</div>"
      ],
      "text/plain": [
       "  Ticker  Final Value  Return (%)  Buy & Hold Return (%)  \\\n",
       "0    SPY     19693.10       -1.53                  -2.83   \n",
       "1    QQQ     19724.60       -1.38                  -4.41   \n",
       "2   AAPL     20406.47        2.03                  -1.23   \n",
       "3   MSFT     19663.81       -1.68                  -3.38   \n",
       "\n",
       "   Outperformed/Underperfromed (%)  Buys  Sells  Trades  \n",
       "0                             1.30   335    486     821  \n",
       "1                             3.03   334    495     829  \n",
       "2                             3.26   276    488     764  \n",
       "3                             1.70   334    480     814  "
      ]
     },
     "metadata": {},
     "output_type": "display_data"
    }
   ],
   "source": [
    "import yfinance as yf\n",
    "import pandas as pd\n",
    "import numpy as np\n",
    "\n",
    "tickers = [\"SPY\", \"QQQ\", \"AAPL\", \"MSFT\"]\n",
    "interval = \"1m\"\n",
    "period = \"5d\"\n",
    "initial_investment = 10000\n",
    "backup_cash = 10000\n",
    "starting_capital = initial_investment + backup_cash\n",
    "Z_BUY = -1.0\n",
    "Z_SELL = 1.0\n",
    "MAX_POSITION_RATIO = 0.75\n",
    "MIN_CASH_BUFFER = 2000\n",
    "window = 20\n",
    "\n",
    "results = []\n",
    "\n",
    "for symbol in tickers:\n",
    "    print(f\"Running: {symbol}\")\n",
    "    try:\n",
    "        df = yf.download(symbol, interval=interval, period=period)\n",
    "        df.columns = df.columns.get_level_values(0)\n",
    "        df.index = pd.to_datetime(df.index)\n",
    "        df = df.sort_index()\n",
    "\n",
    "        if df.index.tz is None:\n",
    "            df.index = df.index.tz_localize(\"America/New_York\")\n",
    "        else:\n",
    "            df.index = df.index.tz_convert(\"America/New_York\")\n",
    "\n",
    "        df = df.between_time(\"09:30\", \"16:00\")\n",
    "        df = df[df.index.dayofweek < 5]\n",
    "        df['Close'] = df['Close'].astype(float)\n",
    "        df['zscore'] = (df['Close'] - df['Close'].rolling(window).mean()) / df['Close'].rolling(window).std()\n",
    "\n",
    "        shares = 0\n",
    "        buy_count = 0\n",
    "        sell_count = 0\n",
    "        has_liquidated = False\n",
    "        backup_cash_copy = backup_cash\n",
    "\n",
    "        first_price = df['Close'].iloc[window]\n",
    "        shares = initial_investment / first_price\n",
    "        entry_price = first_price\n",
    "\n",
    "        buy_count += 1\n",
    "\n",
    "        for i in range(window + 1, len(df)):\n",
    "            price = df['Close'].iloc[i]\n",
    "            z = df['zscore'].iloc[i]\n",
    "            equity_value = shares * price\n",
    "            portfolio_value = backup_cash_copy + equity_value\n",
    "\n",
    "            if has_liquidated:\n",
    "                continue\n",
    "\n",
    "            position_value = shares * price\n",
    "            max_position_value = portfolio_value * MAX_POSITION_RATIO\n",
    "\n",
    "            if z < Z_BUY:\n",
    "                drop_pct = abs(z) / 3\n",
    "                investment = min(backup_cash_copy * drop_pct, max_position_value - position_value)\n",
    "                if backup_cash_copy - investment >= MIN_CASH_BUFFER and investment > 0:\n",
    "                    bought_shares = investment / price\n",
    "                    shares += bought_shares\n",
    "                    backup_cash_copy -= investment\n",
    "                    buy_count += 1\n",
    "\n",
    "            elif z > Z_SELL and shares > 0:\n",
    "                climb_pct = z / 3\n",
    "                sell_shares = min(shares, shares * climb_pct)\n",
    "                if sell_shares > 0:\n",
    "                    proceeds = sell_shares * price\n",
    "                    backup_cash_copy += proceeds\n",
    "                    shares -= sell_shares\n",
    "                    sell_count += 1\n",
    "\n",
    "        final_price = df['Close'].iloc[-1]\n",
    "        final_value = backup_cash_copy + shares * final_price\n",
    "        cumulative_return = (final_value - starting_capital) / starting_capital * 100\n",
    "\n",
    "        bh_shares = initial_investment / entry_price\n",
    "        bh_value = bh_shares * final_price\n",
    "        bh_return = (bh_value - initial_investment) / initial_investment * 100\n",
    "\n",
    "        results.append({\n",
    "            \"Ticker\": symbol,\n",
    "            \"Final Value\": round(final_value, 2),\n",
    "            \"Return (%)\": round(cumulative_return, 2),\n",
    "            \"Buy & Hold Return (%)\": round(bh_return, 2),\n",
    "            \"Outperformed/Underperfromed (%)\": round(cumulative_return-bh_return,2),\n",
    "            \"Buys\": buy_count,\n",
    "            \"Sells\": sell_count,\n",
    "            \"Trades\": buy_count + sell_count\n",
    "        })\n",
    "\n",
    "    except Exception as e:\n",
    "        print(f\"Error for {symbol}: {e}\")\n",
    "\n",
    "# Final results\n",
    "results_df = pd.DataFrame(results)\n",
    "print(\"\\nMulti-Ticker Strategy Results:\\n\")\n",
    "display(results_df)\n"
   ]
  },
  {
   "cell_type": "code",
   "execution_count": null,
   "id": "2d9243bd-5a4d-4d88-837d-c640cd68c9c0",
   "metadata": {},
   "outputs": [],
   "source": []
  }
 ],
 "metadata": {
  "kernelspec": {
   "display_name": "Python 3 (ipykernel)",
   "language": "python",
   "name": "python3"
  },
  "language_info": {
   "codemirror_mode": {
    "name": "ipython",
    "version": 3
   },
   "file_extension": ".py",
   "mimetype": "text/x-python",
   "name": "python",
   "nbconvert_exporter": "python",
   "pygments_lexer": "ipython3",
   "version": "3.12.2"
  }
 },
 "nbformat": 4,
 "nbformat_minor": 5
}
